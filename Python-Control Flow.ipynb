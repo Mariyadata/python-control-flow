{
 "cells": [
  {
   "cell_type": "code",
   "execution_count": 1,
   "id": "389acdb2-462f-4fc0-84f9-1d16159e00ea",
   "metadata": {},
   "outputs": [
    {
     "name": "stdin",
     "output_type": "stream",
     "text": [
      "Enter a number:  2\n"
     ]
    },
    {
     "name": "stdout",
     "output_type": "stream",
     "text": [
      "The entered number is positive.\n"
     ]
    }
   ],
   "source": [
    "number = float(input(\"Enter a number: \"))\n",
    "\n",
    "if number > 0:\n",
    "    print(\"The entered number is positive.\")\n",
    "else :\n",
    "    print(\"The entered number is negative.\")\n",
    "\n"
   ]
  },
  {
   "cell_type": "code",
   "execution_count": 2,
   "id": "97acac34-66a6-4172-b388-4d577a1c3e7a",
   "metadata": {},
   "outputs": [
    {
     "name": "stdin",
     "output_type": "stream",
     "text": [
      "Enter your age:  24\n"
     ]
    },
    {
     "name": "stdout",
     "output_type": "stream",
     "text": [
      "You are eligible to vote.\n"
     ]
    }
   ],
   "source": [
    "age = int(input(\"Enter your age: \"))\n",
    "\n",
    "if age >= 18:\n",
    "    print(\"You are eligible to vote.\")\n",
    "else:\n",
    "    print(\"You are not eligible to vote. Please wait until you turn 18.\")"
   ]
  },
  {
   "cell_type": "code",
   "execution_count": 3,
   "id": "b60b69d6-03ce-468e-9fb6-0790866b76f5",
   "metadata": {},
   "outputs": [
    {
     "name": "stdin",
     "output_type": "stream",
     "text": [
      "Enter the first number:  3\n",
      "Enter the second number:  2\n"
     ]
    },
    {
     "name": "stdout",
     "output_type": "stream",
     "text": [
      "The maximum of 3.0 and 2.0 is: 3.0\n"
     ]
    }
   ],
   "source": [
    "num1 = float(input(\"Enter the first number: \"))\n",
    "num2 = float(input(\"Enter the second number: \"))\n",
    "\n",
    "if num1 > num2:\n",
    "    max_num = num1\n",
    "else:\n",
    "    max_num = num2\n",
    "    \n",
    "print(\"The maximum of\", num1, \"and\", num2, \"is:\", max_num)\n"
   ]
  },
  {
   "cell_type": "code",
   "execution_count": 4,
   "id": "ed12205c-943e-418e-8040-da160bac97f7",
   "metadata": {},
   "outputs": [
    {
     "name": "stdin",
     "output_type": "stream",
     "text": [
      "Enter a year:  2022\n"
     ]
    },
    {
     "name": "stdout",
     "output_type": "stream",
     "text": [
      "2022 is not a leap year.\n"
     ]
    }
   ],
   "source": [
    "year = int(input(\"Enter a year: \"))\n",
    "\n",
    "if (year % 4 == 0 and year % 100 != 0):\n",
    "    print(year, \"is a leap year.\")\n",
    "else:\n",
    "    print(year, \"is not a leap year.\")\n"
   ]
  },
  {
   "cell_type": "code",
   "execution_count": 5,
   "id": "b5b70389-b696-41c8-8ea4-e2d077757f5c",
   "metadata": {},
   "outputs": [
    {
     "name": "stdin",
     "output_type": "stream",
     "text": [
      "Enter a character:  mari\n"
     ]
    }
   ],
   "source": [
    "character = input(\"Enter a character: \")\n",
    "character = character.lower()\n",
    "\n",
    "if character.isalpha() and len(character) == 1:\n",
    "    if character in 'aeiou':\n",
    "        print(f'{character} is a vowel.')\n",
    "    else:\n",
    "        print(f'{character} is a consonant.')\n",
    "\n"
   ]
  },
  {
   "cell_type": "code",
   "execution_count": 7,
   "id": "4c38fc0d-e241-4d0b-ac4e-2bdef6a2fbe0",
   "metadata": {},
   "outputs": [
    {
     "name": "stdin",
     "output_type": "stream",
     "text": [
      "Enter a number:  3\n"
     ]
    },
    {
     "name": "stdout",
     "output_type": "stream",
     "text": [
      "3 is an odd number.\n"
     ]
    }
   ],
   "source": [
    "number = int(input(\"Enter a number: \"))\n",
    "\n",
    "if number % 2 == 0:\n",
    "    print(f\"{number} is an even number.\")\n",
    "else:\n",
    "    print(f\"{number} is an odd number.\")\n"
   ]
  },
  {
   "cell_type": "code",
   "execution_count": 8,
   "id": "67967900-c1d0-47cc-827f-05df7a5b520e",
   "metadata": {},
   "outputs": [
    {
     "name": "stdin",
     "output_type": "stream",
     "text": [
      "Enter a number:  5\n"
     ]
    },
    {
     "name": "stdout",
     "output_type": "stream",
     "text": [
      "The absolute value of 5.0 is: 5.0\n"
     ]
    }
   ],
   "source": [
    "def calculate_absolute_value(number):\n",
    "    if number < 0:\n",
    "        return -number\n",
    "    else:\n",
    "        return number\n",
    "\n",
    "user_input = float(input(\"Enter a number: \"))\n",
    "\n",
    "result = calculate_absolute_value(user_input)\n",
    "print(f\"The absolute value of {user_input} is: {result}\")\n"
   ]
  },
  {
   "cell_type": "code",
   "execution_count": 9,
   "id": "8c3781d4-1ecb-493d-b51f-83facb38b488",
   "metadata": {},
   "outputs": [
    {
     "name": "stdin",
     "output_type": "stream",
     "text": [
      "Enter the first number:  3\n",
      "Enter the second number:  2\n",
      "Enter the third number:  5\n"
     ]
    },
    {
     "name": "stdout",
     "output_type": "stream",
     "text": [
      "The largest of 3.0 , 2.0 , and 5.0 is: 5.0\n"
     ]
    }
   ],
   "source": [
    "num1 = float(input(\"Enter the first number: \"))\n",
    "num2 = float(input(\"Enter the second number: \"))\n",
    "num3 = float(input(\"Enter the third number: \"))\n",
    "\n",
    "if num1 >= num2 and num1 >= num3:\n",
    "    largest = num1\n",
    "elif num2 >= num1 and num2 >= num3:\n",
    "    largest = num2\n",
    "else:\n",
    "    largest = num3\n",
    "\n",
    "print(\"The largest of\", num1, \",\", num2, \", and\", num3, \"is:\", largest)\n"
   ]
  },
  {
   "cell_type": "code",
   "execution_count": 10,
   "id": "dcc2884c-0f46-4847-99dc-7250958f1631",
   "metadata": {},
   "outputs": [
    {
     "name": "stdin",
     "output_type": "stream",
     "text": [
      "Enter a string:  mariya\n"
     ]
    },
    {
     "name": "stdout",
     "output_type": "stream",
     "text": [
      "mariya is not a palindrome.\n"
     ]
    }
   ],
   "source": [
    "def is_palindrome(input_str):\n",
    "    clean_str = input_str.replace(\" \", \"\").lower()\n",
    "    \n",
    "    return clean_str == clean_str[::-1]\n",
    "\n",
    "user_input = input(\"Enter a string: \")\n",
    "\n",
    "if is_palindrome(user_input):\n",
    "    print(f\"{user_input} is a palindrome.\")\n",
    "else:\n",
    "    print(f\"{user_input} is not a palindrome.\")\n"
   ]
  },
  {
   "cell_type": "code",
   "execution_count": 11,
   "id": "1ddc6aef-da56-4836-bc2b-4b82c4070b0d",
   "metadata": {},
   "outputs": [
    {
     "name": "stdin",
     "output_type": "stream",
     "text": [
      "Enter the student's score:  67\n"
     ]
    },
    {
     "name": "stdout",
     "output_type": "stream",
     "text": [
      "The student's grade is: A\n"
     ]
    }
   ],
   "source": [
    "score = float(input(\"Enter the student's score: \"))\n",
    "\n",
    "if score <= 100:\n",
    "    grade = 'A'\n",
    "elif score < 90:\n",
    "    grade = 'B'\n",
    "elif score < 80:\n",
    "    grade = 'C'\n",
    "elif  score < 70:\n",
    "    grade = 'D'\n",
    "elif score < 60:\n",
    "    grade = 'F'\n",
    "else:\n",
    "    print(\"Invalid\")\n",
    "    exit()\n",
    "\n",
    "print(f\"The student's grade is: {grade}\")\n"
   ]
  },
  {
   "cell_type": "code",
   "execution_count": 12,
   "id": "d757ceac-d717-4703-ad84-255234123283",
   "metadata": {},
   "outputs": [
    {
     "name": "stdin",
     "output_type": "stream",
     "text": [
      "Enter the first number:  2\n",
      "Enter the second number:  3\n",
      "Enter the third number:  5\n"
     ]
    },
    {
     "name": "stdout",
     "output_type": "stream",
     "text": [
      "The largest of 2.0 , 3.0 , and 5.0 is: 5.0\n"
     ]
    }
   ],
   "source": [
    "num1 = float(input(\"Enter the first number: \"))\n",
    "num2 = float(input(\"Enter the second number: \"))\n",
    "num3 = float(input(\"Enter the third number: \"))\n",
    "\n",
    "if num1 >= num2:\n",
    "    if num1 >= num3:\n",
    "        largest = num1\n",
    "    else:\n",
    "        largest = num3\n",
    "else:\n",
    "    if num2 >= num3:\n",
    "        largest = num2\n",
    "    else:\n",
    "        largest = num3\n",
    "\n",
    "print(\"The largest of\", num1, \",\", num2, \", and\", num3, \"is:\", largest)\n"
   ]
  },
  {
   "cell_type": "code",
   "execution_count": 13,
   "id": "8d2102f9-75d4-409d-a0a9-9c217438e4cb",
   "metadata": {},
   "outputs": [
    {
     "name": "stdin",
     "output_type": "stream",
     "text": [
      "Enter the length of the first side:  2\n",
      "Enter the length of the second side:  3\n",
      "Enter the length of the third side:  4\n"
     ]
    },
    {
     "name": "stdout",
     "output_type": "stream",
     "text": [
      "The triangle with side lengths 2.0, 3.0, and 4.0 is a scalene triangle.\n"
     ]
    }
   ],
   "source": [
    "side1 = float(input(\"Enter the length of the first side: \"))\n",
    "side2 = float(input(\"Enter the length of the second side: \"))\n",
    "side3 = float(input(\"Enter the length of the third side: \"))\n",
    "\n",
    "\n",
    "if side1 == side2 == side3:\n",
    "    triangle_type = \"equilateral\"\n",
    "elif side1 == side2 or side1 == side3 or side2 == side3:\n",
    "    triangle_type = \"isosceles\"\n",
    "else:\n",
    "    triangle_type = \"scalene\"\n",
    "\n",
    "print(f\"The triangle with side lengths {side1}, {side2}, and {side3} is a {triangle_type} triangle.\")\n"
   ]
  },
  {
   "cell_type": "code",
   "execution_count": 14,
   "id": "c82212af-5ee2-4e4f-a256-7d9ffa2975b2",
   "metadata": {},
   "outputs": [
    {
     "name": "stdin",
     "output_type": "stream",
     "text": [
      "Enter a year:  2012\n"
     ]
    },
    {
     "name": "stdout",
     "output_type": "stream",
     "text": [
      "2012 is a leap year but not a century year.\n"
     ]
    }
   ],
   "source": [
    "year = int(input(\"Enter a year: \"))\n",
    "\n",
    "is_leap_year = (year % 4 == 0 and year % 100 != 0) \n",
    "\n",
    "\n",
    "is_century_year = year % 100 == 0\n",
    "if is_leap_year:\n",
    "    if is_century_year:\n",
    "        print(f\"{year} is a leap year and a century year.\")\n",
    "    else:\n",
    "        print(f\"{year} is a leap year but not a century year.\")\n",
    "else:\n",
    "    print(f\"{year} is not a leap year.\")\n",
    "\n"
   ]
  },
  {
   "cell_type": "code",
   "execution_count": 15,
   "id": "3f7ead42-1ea9-4117-813d-d0ff16062beb",
   "metadata": {},
   "outputs": [
    {
     "name": "stdin",
     "output_type": "stream",
     "text": [
      "Enter a number:  3\n"
     ]
    },
    {
     "name": "stdout",
     "output_type": "stream",
     "text": [
      "The entered number is positive.\n"
     ]
    }
   ],
   "source": [
    "number = float(input(\"Enter a number: \"))\n",
    "\n",
    "\n",
    "if number > 0:\n",
    "    print(\"The entered number is positive.\")\n",
    "elif number < 0:\n",
    "    print(\"The entered number is negative.\")\n",
    "else:\n",
    "    print(\"The entered number is zero.\")\n"
   ]
  },
  {
   "cell_type": "code",
   "execution_count": 16,
   "id": "23657ec2-bad2-47f4-b14e-42be60d5d427",
   "metadata": {},
   "outputs": [
    {
     "name": "stdin",
     "output_type": "stream",
     "text": [
      "Enter the person's age:  22\n"
     ]
    },
    {
     "name": "stdout",
     "output_type": "stream",
     "text": [
      "The person is not a teenager.\n"
     ]
    }
   ],
   "source": [
    "age = int(input(\"Enter the person's age: \"))\n",
    "\n",
    "\n",
    "if age <18:\n",
    "    print(\"The person is a teenager.\")\n",
    "else:\n",
    "    print(\"The person is not a teenager.\")\n",
    "\n"
   ]
  },
  {
   "cell_type": "code",
   "execution_count": 17,
   "id": "93597ff3-e4fd-40a8-88af-cfaa52e30c01",
   "metadata": {},
   "outputs": [
    {
     "name": "stdin",
     "output_type": "stream",
     "text": [
      "Enter the angle measure in degrees:  100\n"
     ]
    },
    {
     "name": "stdout",
     "output_type": "stream",
     "text": [
      "The angle with measure 100.0 degrees is a obtuse angle.\n"
     ]
    }
   ],
   "source": [
    "angle_measure = float(input(\"Enter the angle measure in degrees: \"))\n",
    "\n",
    "if  angle_measure < 90:\n",
    "    angle_type = \"acute\"\n",
    "elif angle_measure == 90:\n",
    "    angle_type = \"right\"\n",
    "elif angle_measure < 180:\n",
    "    angle_type = \"obtuse\"\n",
    "else:\n",
    "    angle_type = \"invalid\"\n",
    "\n",
    "# Print the result\n",
    "print(f\"The angle with measure {angle_measure} degrees is a {angle_type} angle.\")\n"
   ]
  },
  {
   "cell_type": "code",
   "execution_count": null,
   "id": "ad88075f-0283-4385-bf97-0b35d8356eba",
   "metadata": {},
   "outputs": [],
   "source": [
    "17"
   ]
  },
  {
   "cell_type": "code",
   "execution_count": 18,
   "id": "40fd3372-bf54-45ed-badd-44f01b8f3025",
   "metadata": {},
   "outputs": [
    {
     "name": "stdin",
     "output_type": "stream",
     "text": [
      "Enter a number (1 for Monday, 2 for Tuesday, etc.):  2\n"
     ]
    },
    {
     "name": "stdout",
     "output_type": "stream",
     "text": [
      "The day corresponding to 2 is Tuesday.\n"
     ]
    }
   ],
   "source": [
    "day_number = int(input(\"Enter a number (1 for Monday, 2 for Tuesday, etc.): \"))\n",
    "\n",
    "\n",
    "if day_number <= 7:\n",
    "    days_of_week = [\"Monday\", \"Tuesday\", \"Wednesday\", \"Thursday\", \"Friday\", \"Saturday\", \"Sunday\"]\n",
    "    day_of_week = days_of_week[day_number - 1]\n",
    "    print(f\"The day corresponding to {day_number} is {day_of_week}.\")\n",
    "else:\n",
    "    print(\"Invalid\")\n"
   ]
  },
  {
   "cell_type": "code",
   "execution_count": 19,
   "id": "98344c11-cf52-48d5-9087-9aa3e399459d",
   "metadata": {},
   "outputs": [
    {
     "name": "stdin",
     "output_type": "stream",
     "text": [
      "Enter a year:  2022\n"
     ]
    },
    {
     "name": "stdout",
     "output_type": "stream",
     "text": [
      "2022 is not a leap year or not evenly divisible by 400.\n"
     ]
    }
   ],
   "source": [
    "year = int(input(\"Enter a year: \"))\n",
    "\n",
    "if (year % 4 == 0 and year % 100 != 0):\n",
    "    print(f\"{year} is a leap year and evenly divisible by 400.\")\n",
    "else:\n",
    "    print(f\"{year} is not a leap year or not evenly divisible by 400.\")\n"
   ]
  },
  {
   "cell_type": "code",
   "execution_count": 20,
   "id": "f427d132-1ba4-48f7-bf1d-08f73ee4c6ac",
   "metadata": {},
   "outputs": [
    {
     "name": "stdin",
     "output_type": "stream",
     "text": [
      "Enter a number:  22\n"
     ]
    },
    {
     "name": "stdout",
     "output_type": "stream",
     "text": [
      "22 is not a prime number.\n"
     ]
    }
   ],
   "source": [
    "number = int(input(\"Enter a number: \"))\n",
    "\n",
    "if number > 1:\n",
    "\n",
    "    for i in range(2, int(number**0.5) + 1):\n",
    "        if number % i == 0:\n",
    "            print(f\"{number} is not a prime number.\")\n",
    "            break\n",
    "    else:\n",
    "        print(f\"{number} is a prime number.\")\n",
    "else:\n",
    "    print(f\"{number} is not a prime number.\")\n"
   ]
  },
  {
   "cell_type": "code",
   "execution_count": 21,
   "id": "34eac1b5-d3e0-4efe-b3e8-dbdb00a2f045",
   "metadata": {},
   "outputs": [
    {
     "name": "stdin",
     "output_type": "stream",
     "text": [
      "Enter the student's score:  88\n"
     ]
    },
    {
     "name": "stdout",
     "output_type": "stream",
     "text": [
      "The student's score of 88.0 is grade A.\n"
     ]
    }
   ],
   "source": [
    "score = float(input(\"Enter the student's score: \"))\n",
    "\n",
    "\n",
    "if score <= 100:\n",
    "    grade = 'A'\n",
    "elif score < 90:\n",
    "    grade = 'B'\n",
    "elif score < 80:\n",
    "    grade = 'C'\n",
    "elif score < 70:\n",
    "    grade = 'D'\n",
    "elif score < 60:\n",
    "    grade = 'F'\n",
    "else:\n",
    "    print(\"Invalid score\")\n",
    "    exit()\n",
    "print(f\"The student's score of {score} is grade {grade}.\")\n"
   ]
  },
  {
   "cell_type": "code",
   "execution_count": 22,
   "id": "e5eb71b8-f8a9-4d99-bd53-280fc9c4888d",
   "metadata": {},
   "outputs": [
    {
     "name": "stdin",
     "output_type": "stream",
     "text": [
      "Enter the measure of the first angle:  50\n",
      "Enter the measure of the second angle:  100\n",
      "Enter the measure of the third angle:  30\n"
     ]
    },
    {
     "name": "stdout",
     "output_type": "stream",
     "text": [
      "The triangle is a scalene triangle.\n"
     ]
    }
   ],
   "source": [
    "angle1 = float(input(\"Enter the measure of the first angle: \"))\n",
    "angle2 = float(input(\"Enter the measure of the second angle: \"))\n",
    "angle3 = float(input(\"Enter the measure of the third angle: \"))\n",
    "\n",
    "if angle1 + angle2 + angle3 == 180:\n",
    "    if angle1 == angle2 == angle3:\n",
    "        triangle_type = \"equilateral\"\n",
    "    elif angle1 == angle2 or angle1 == angle3 or angle2 == angle3:\n",
    "        triangle_type = \"isosceles\"\n",
    "    else:\n",
    "        triangle_type = \"scalene\"\n",
    "    print(f\"The triangle is a {triangle_type} triangle.\")\n",
    "else:\n",
    "    print(\"Invalid triangle\")\n"
   ]
  },
  {
   "cell_type": "code",
   "execution_count": 23,
   "id": "a8c0cb0d-ae5d-4301-b5ed-8d2a4f52322c",
   "metadata": {},
   "outputs": [
    {
     "name": "stdin",
     "output_type": "stream",
     "text": [
      "Enter your height in meters:  167\n",
      "Enter your weight in kilograms:  88\n"
     ]
    },
    {
     "name": "stdout",
     "output_type": "stream",
     "text": [
      "Your BMI is 0.00, and you are categorized as underweight.\n"
     ]
    }
   ],
   "source": [
    "height = float(input(\"Enter your height in meters: \"))\n",
    "weight = float(input(\"Enter your weight in kilograms: \"))\n",
    "\n",
    "\n",
    "bmi = weight / (height ** 2)\n",
    "\n",
    "if bmi < 18.5:\n",
    "    category = \"underweight\"\n",
    "elif bmi < 24.9:\n",
    "    category = \"normal\"\n",
    "elif bmi < 29.9:\n",
    "    category = \"overweight\"\n",
    "else:\n",
    "    category = \"obese\"\n",
    "\n",
    "print(f\"Your BMI is {bmi:.2f}, and you are categorized as {category}.\")\n"
   ]
  },
  {
   "cell_type": "code",
   "execution_count": 24,
   "id": "064de276-be32-47c2-b201-8aa221c7adef",
   "metadata": {},
   "outputs": [
    {
     "name": "stdin",
     "output_type": "stream",
     "text": [
      "Enter a number:  2\n"
     ]
    },
    {
     "name": "stdout",
     "output_type": "stream",
     "text": [
      "The entered number is positive.\n"
     ]
    }
   ],
   "source": [
    "number = float(input(\"Enter a number: \"))\n",
    "\n",
    "if number > 0:\n",
    "    print(\"The entered number is positive.\")\n",
    "elif number < 0:\n",
    "    print(\"The entered number is negative.\")\n",
    "else:\n",
    "    print(\"The entered number is zero.\")\n"
   ]
  },
  {
   "cell_type": "code",
   "execution_count": 25,
   "id": "45d52935-2af4-47fa-850b-b00063657bc2",
   "metadata": {},
   "outputs": [
    {
     "name": "stdin",
     "output_type": "stream",
     "text": [
      "Enter a character:  mari\n"
     ]
    },
    {
     "name": "stdout",
     "output_type": "stream",
     "text": [
      "The character 'mari' is a lowercase character.\n"
     ]
    }
   ],
   "source": [
    "char = input(\"Enter a character: \")\n",
    "\n",
    "if char.isupper():\n",
    "    char_type = \"uppercase\"\n",
    "elif char.islower():\n",
    "    char_type = \"lowercase\"\n",
    "else:\n",
    "    char_type = \"special\"\n",
    "\n",
    "print(f\"The character '{char}' is a {char_type} character.\")\n"
   ]
  },
  {
   "cell_type": "code",
   "execution_count": 26,
   "id": "8551afb2-0a30-4169-8e5c-663819f03207",
   "metadata": {},
   "outputs": [
    {
     "name": "stdin",
     "output_type": "stream",
     "text": [
      "Enter the purchase amount:  200\n"
     ]
    },
    {
     "name": "stdout",
     "output_type": "stream",
     "text": [
      "The original price is $200.00.\n",
      "With a 15% discount, the discounted price is $170.00.\n"
     ]
    }
   ],
   "source": [
    "purchase_amount = float(input(\"Enter the purchase amount: \"))\n",
    "\n",
    "if purchase_amount < 50:\n",
    "    discount_percentage = 0\n",
    "elif purchase_amount < 100:\n",
    "    discount_percentage = 5\n",
    "elif purchase_amount < 200:\n",
    "    discount_percentage = 10\n",
    "else:\n",
    "    discount_percentage = 15\n",
    "\n",
    "discounted_price = purchase_amount - (purchase_amount * (discount_percentage / 100))\n",
    "\n",
    "print(f\"The original price is ${purchase_amount:.2f}.\")\n",
    "print(f\"With a {discount_percentage}% discount, the discounted price is ${discounted_price:.2f}.\")\n"
   ]
  },
  {
   "cell_type": "code",
   "execution_count": 27,
   "id": "a14dbaac-f797-44f8-b3a7-375642ca881f",
   "metadata": {},
   "outputs": [
    {
     "data": {
      "text/plain": [
       "27"
      ]
     },
     "execution_count": 27,
     "metadata": {},
     "output_type": "execute_result"
    }
   ],
   "source": [
    "27"
   ]
  },
  {
   "cell_type": "code",
   "execution_count": 28,
   "id": "3acc480d-5bea-4f32-9bb1-423f34591828",
   "metadata": {},
   "outputs": [
    {
     "name": "stdin",
     "output_type": "stream",
     "text": [
      "Enter the measure of the first angle in degrees:  100\n",
      "Enter the measure of the second angle in degrees:  100\n",
      "Enter the measure of the third angle in degrees:  100\n",
      "Enter the measure of the fourth angle in degrees:  60\n",
      "Enter the length of the first side:  2\n",
      "Enter the length of the second side:  4\n",
      "Enter the length of the third side:  6\n",
      "Enter the length of the fourth side:  4\n"
     ]
    },
    {
     "name": "stdout",
     "output_type": "stream",
     "text": [
      "The given quadrilateral is a quadrilateral.\n"
     ]
    }
   ],
   "source": [
    "angle1 = float(input(\"Enter the measure of the first angle in degrees: \"))\n",
    "angle2 = float(input(\"Enter the measure of the second angle in degrees: \"))\n",
    "angle3 = float(input(\"Enter the measure of the third angle in degrees: \"))\n",
    "angle4 = float(input(\"Enter the measure of the fourth angle in degrees: \"))\n",
    "\n",
    "side1 = float(input(\"Enter the length of the first side: \"))\n",
    "side2 = float(input(\"Enter the length of the second side: \"))\n",
    "side3 = float(input(\"Enter the length of the third side: \"))\n",
    "side4 = float(input(\"Enter the length of the fourth side: \"))\n",
    "\n",
    "\n",
    "if angle1 + angle2 + angle3 + angle4 == 360:\n",
    "    if side1 == side2 == side3 == side4:\n",
    "        quadrilateral_type = \"square\"\n",
    "    elif angle1 == angle2 == angle3 == angle4:\n",
    "        quadrilateral_type = \"rhombus\"\n",
    "    elif side1 == side3 and side2 == side4:\n",
    "        quadrilateral_type = \"rectangle\"\n",
    "    else:\n",
    "        quadrilateral_type = \"quadrilateral\"\n",
    "else:\n",
    "    quadrilateral_type = \"invalid\"\n",
    "\n",
    "print(f\"The given quadrilateral is a {quadrilateral_type}.\")\n"
   ]
  },
  {
   "cell_type": "code",
   "execution_count": 29,
   "id": "2db144fd-af1c-4ccc-9a44-ce416f134ee8",
   "metadata": {},
   "outputs": [
    {
     "name": "stdin",
     "output_type": "stream",
     "text": [
      "Enter the month (January, February, etc.):  january\n"
     ]
    },
    {
     "name": "stdout",
     "output_type": "stream",
     "text": [
      "The season for january is winter.\n"
     ]
    }
   ],
   "source": [
    "month = input(\"Enter the month (January, February, etc.): \")\n",
    "\n",
    "\n",
    "if ['december', 'january', 'february']:\n",
    "    season = 'winter'\n",
    "elif ['march', 'april', 'may']:\n",
    "    season = 'spring'\n",
    "elif ['june', 'july', 'august']:\n",
    "    season = 'summer'\n",
    "elif ['september', 'october', 'november']:\n",
    "    season = 'fall'\n",
    "else:\n",
    "    print(\"Invalid input\")\n",
    "    exit()\n",
    "\n",
    "print(f\"The season for {month} is {season}.\")\n",
    "\n"
   ]
  },
  {
   "cell_type": "code",
   "execution_count": 30,
   "id": "1ff5766b-3898-465e-b22c-941ab76a3ba8",
   "metadata": {},
   "outputs": [
    {
     "name": "stdin",
     "output_type": "stream",
     "text": [
      "Enter the year:  2022\n",
      "Enter the month (e.g., January, February, etc.):  january\n"
     ]
    },
    {
     "name": "stdout",
     "output_type": "stream",
     "text": [
      "The year 2022 is a common year.\n",
      "The month of january has 31 days.\n"
     ]
    }
   ],
   "source": [
    "year = int(input(\"Enter the year: \"))\n",
    "month = input(\"Enter the month (e.g., January, February, etc.): \")\n",
    "\n",
    "\n",
    "if (year % 4 == 0 and year % 100 != 0) :\n",
    "    year_type = 'leap'\n",
    "else:\n",
    "    year_type = 'common'\n",
    "\n",
    "\n",
    "if ['january', 'march', 'may', 'july', 'august', 'october', 'december']:\n",
    "    days_in_month = 31\n",
    "elif ['april', 'june', 'september', 'november']:\n",
    "    days_in_month = 30\n",
    "elif 'february':\n",
    "    days_in_month = 29 if year_type == 'leap' else 28\n",
    "else:\n",
    "    print(\"Invalid input\")\n",
    "    exit()\n",
    "\n",
    "print(f\"The year {year} is a {year_type} year.\")\n",
    "print(f\"The month of {month} has {days_in_month} days.\")\n"
   ]
  },
  {
   "cell_type": "code",
   "execution_count": 1,
   "id": "850bc9bf-58ad-4169-a58f-0bafa0384dfb",
   "metadata": {},
   "outputs": [
    {
     "name": "stdin",
     "output_type": "stream",
     "text": [
      "Enter a number:  3\n"
     ]
    },
    {
     "name": "stdout",
     "output_type": "stream",
     "text": [
      "The entered number is positive.\n"
     ]
    }
   ],
   "source": [
    "number = float(input(\"Enter a number: \"))\n",
    "\n",
    "\n",
    "if number > 0:\n",
    "    print(\"The entered number is positive.\")\n",
    "elif number < 0:\n",
    "    print(\"The entered number is negative.\")\n",
    "else:\n",
    "    print(\"The entered number is zero.\")\n"
   ]
  },
  {
   "cell_type": "code",
   "execution_count": 2,
   "id": "52cdba42-0873-4bfb-8e63-c2eff0d41ff1",
   "metadata": {},
   "outputs": [
    {
     "name": "stdin",
     "output_type": "stream",
     "text": [
      "Enter your age:  22\n"
     ]
    },
    {
     "name": "stdout",
     "output_type": "stream",
     "text": [
      "You are eligible to vote.\n"
     ]
    }
   ],
   "source": [
    "age = int(input(\"Enter your age: \"))\n",
    "\n",
    "if age >= 18:\n",
    "    print(\"You are eligible to vote.\")\n",
    "else:\n",
    "    print(\"You are not eligible to vote yet.\")\n"
   ]
  },
  {
   "cell_type": "code",
   "execution_count": 3,
   "id": "f1348e8f-9734-4b27-873b-660ff38e38bb",
   "metadata": {},
   "outputs": [
    {
     "name": "stdin",
     "output_type": "stream",
     "text": [
      "Enter the first number:  2\n",
      "Enter the second number:  5\n"
     ]
    },
    {
     "name": "stdout",
     "output_type": "stream",
     "text": [
      "The maximum of 2.0 and 5.0 is: 5.0\n"
     ]
    }
   ],
   "source": [
    "num1 = float(input(\"Enter the first number: \"))\n",
    "num2 = float(input(\"Enter the second number: \"))\n",
    "\n",
    "if num1 > num2:\n",
    "    maximum = num1\n",
    "else:\n",
    "    maximum = num2\n",
    "\n",
    "\n",
    "print(f\"The maximum of {num1} and {num2} is: {maximum}\")\n",
    "\n"
   ]
  },
  {
   "cell_type": "code",
   "execution_count": 4,
   "id": "03825c45-b2df-4bb0-833a-3e1275fb04f7",
   "metadata": {},
   "outputs": [
    {
     "name": "stdin",
     "output_type": "stream",
     "text": [
      "Enter the student's exam score:  99\n"
     ]
    },
    {
     "name": "stdout",
     "output_type": "stream",
     "text": [
      "The student's grade for the exam is: A\n"
     ]
    }
   ],
   "source": [
    "exam_score = float(input(\"Enter the student's exam score: \"))\n",
    "\n",
    "\n",
    "if exam_score <= 100:\n",
    "    grade = 'A'\n",
    "elif exam_score < 90:\n",
    "    grade = 'B'\n",
    "elif exam_score < 80:\n",
    "    grade = 'C'\n",
    "elif  exam_score < 70:\n",
    "    grade = 'D'\n",
    "elif exam_score < 60:\n",
    "    grade = 'F'\n",
    "else:\n",
    "    print(\"Invalid exam score\")\n",
    "    exit()\n",
    "\n",
    "\n",
    "print(f\"The student's grade for the exam is: {grade}\")\n"
   ]
  },
  {
   "cell_type": "code",
   "execution_count": 5,
   "id": "a7b4a9d2-9400-41b1-908b-522496bf833b",
   "metadata": {},
   "outputs": [
    {
     "name": "stdin",
     "output_type": "stream",
     "text": [
      "Enter a year:  2022\n"
     ]
    },
    {
     "name": "stdout",
     "output_type": "stream",
     "text": [
      "2022 is not a leap year.\n"
     ]
    }
   ],
   "source": [
    "year = int(input(\"Enter a year: \"))\n",
    "\n",
    "if (year % 4 == 0 and year % 100 != 0) :\n",
    "    print(f\"{year} is a leap year.\")\n",
    "else:\n",
    "    print(f\"{year} is not a leap year.\")\n"
   ]
  },
  {
   "cell_type": "code",
   "execution_count": 6,
   "id": "a5607749-bfdf-4fcd-aa17-c377fec63e5c",
   "metadata": {},
   "outputs": [
    {
     "name": "stdin",
     "output_type": "stream",
     "text": [
      "Enter the length of the first side:  2\n",
      "Enter the length of the second side:  4\n",
      "Enter the length of the third side:  6\n"
     ]
    },
    {
     "name": "stdout",
     "output_type": "stream",
     "text": [
      "The triangle with side lengths 2.0, 4.0, and 6.0 is a scalene triangle.\n"
     ]
    }
   ],
   "source": [
    "side1 = float(input(\"Enter the length of the first side: \"))\n",
    "side2 = float(input(\"Enter the length of the second side: \"))\n",
    "side3 = float(input(\"Enter the length of the third side: \"))\n",
    "\n",
    "if side1 == side2 == side3:\n",
    "    triangle_type = \"equilateral\"\n",
    "elif side1 == side2 or side1 == side3 or side2 == side3:\n",
    "    triangle_type = \"isosceles\"\n",
    "else:\n",
    "    triangle_type = \"scalene\"\n",
    "\n",
    "\n",
    "print(f\"The triangle with side lengths {side1}, {side2}, and {side3} is a {triangle_type} triangle.\")\n",
    "\n",
    "\n"
   ]
  },
  {
   "cell_type": "code",
   "execution_count": 7,
   "id": "92f53619-a8d2-4c5f-9560-c9e3764b283a",
   "metadata": {},
   "outputs": [
    {
     "name": "stdin",
     "output_type": "stream",
     "text": [
      "Enter the first number:  2\n",
      "Enter the second number:  4\n",
      "Enter the third number:  6\n"
     ]
    },
    {
     "name": "stdout",
     "output_type": "stream",
     "text": [
      "The largest number among 2.0, 4.0, and 6.0 is: 6.0\n"
     ]
    }
   ],
   "source": [
    "num1 = float(input(\"Enter the first number: \"))\n",
    "num2 = float(input(\"Enter the second number: \"))\n",
    "num3 = float(input(\"Enter the third number: \"))\n",
    "\n",
    "if num1 >= num2 and num1 >= num3:\n",
    "    largest = num1\n",
    "elif num2 >= num1 and num2 >= num3:\n",
    "    largest = num2\n",
    "else:\n",
    "    largest = num3\n",
    "\n",
    "print(f\"The largest number among {num1}, {num2}, and {num3} is: {largest}\")\n"
   ]
  },
  {
   "cell_type": "code",
   "execution_count": 8,
   "id": "6ec22638-0ef8-41de-9afa-aca6d2c0c5b9",
   "metadata": {},
   "outputs": [
    {
     "name": "stdin",
     "output_type": "stream",
     "text": [
      "Enter a character:  skills\n"
     ]
    },
    {
     "name": "stdout",
     "output_type": "stream",
     "text": [
      "Invalid\n"
     ]
    }
   ],
   "source": [
    "char = input(\"Enter a character: \")\n",
    "\n",
    "\n",
    "char_lower = char.lower()\n",
    "\n",
    "if char_lower.isalpha() and len(char_lower) == 1:\n",
    "    if char_lower in ['a', 'e', 'i', 'o', 'u']:\n",
    "        result = \"vowel\"\n",
    "    else:\n",
    "        result = \"consonant\"\n",
    "    print(f\"The character '{char}' is a {result}.\")\n",
    "else:\n",
    "    print(\"Invalid\")\n"
   ]
  },
  {
   "cell_type": "code",
   "execution_count": 9,
   "id": "a7e1233d-908d-4e24-9c97-c8ddb9ba7921",
   "metadata": {},
   "outputs": [
    {
     "name": "stdin",
     "output_type": "stream",
     "text": [
      "Enter the number of items in your shopping cart:  2\n",
      "Enter the price of item 1:  200\n",
      "Enter the price of item 2:  500\n"
     ]
    },
    {
     "name": "stdout",
     "output_type": "stream",
     "text": [
      "Total cost before discount: $700.00\n",
      "Discount applied: 10%\n",
      "Discounted cost: $630.00\n"
     ]
    }
   ],
   "source": [
    "num_items = int(input(\"Enter the number of items in your shopping cart: \"))\n",
    "\n",
    "total_cost = 0\n",
    "discount_percentage = 0\n",
    "\n",
    "for i in range(num_items):\n",
    "    item_price = float(input(f\"Enter the price of item {i + 1}: \"))\n",
    "    total_cost += item_price\n",
    "    \n",
    "if total_cost >= 100:\n",
    "    discount_percentage = 10\n",
    "elif total_cost >= 50:\n",
    "    discount_percentage = 5\n",
    "\n",
    "\n",
    "discount = total_cost * (discount_percentage / 100)\n",
    "discounted_cost = total_cost - discount\n",
    "\n",
    "\n",
    "print(f\"Total cost before discount: ${total_cost:.2f}\")\n",
    "print(f\"Discount applied: {discount_percentage}%\")\n",
    "print(f\"Discounted cost: ${discounted_cost:.2f}\")\n"
   ]
  },
  {
   "cell_type": "code",
   "execution_count": 10,
   "id": "ca575551-83f6-4f78-8410-6e2a68cc6987",
   "metadata": {},
   "outputs": [
    {
     "name": "stdin",
     "output_type": "stream",
     "text": [
      "Enter a number:  4\n"
     ]
    },
    {
     "name": "stdout",
     "output_type": "stream",
     "text": [
      "4 is an even number.\n"
     ]
    }
   ],
   "source": [
    "number = int(input(\"Enter a number: \"))\n",
    "\n",
    "if number % 2 == 0:\n",
    "    print(f\"{number} is an even number.\")\n",
    "else:\n",
    "    print(f\"{number} is an odd number.\")\n"
   ]
  },
  {
   "cell_type": "code",
   "execution_count": 17,
   "id": "97b2f239-27a1-442a-8582-5efa03533755",
   "metadata": {},
   "outputs": [
    {
     "name": "stdin",
     "output_type": "stream",
     "text": [
      "Enter the coefficient a:  4\n",
      "Enter the coefficient b:  5\n",
      "Enter the coefficient c:  6\n"
     ]
    },
    {
     "name": "stdout",
     "output_type": "stream",
     "text": [
      "The roots of the quadratic equation are: (-0.625+1.0532687216470449j) and (-0.625-1.0532687216470449j)\n"
     ]
    }
   ],
   "source": [
    "import cmath \n",
    "\n",
    "def calculate_quadratic_roots(a, b, c):\n",
    "  \n",
    "    discriminant = (b**2) - (4*a*c)\n",
    "\n",
    "    # Calculate the roots using the quadratic formula\n",
    "    root1 = (-b + cmath.sqrt(discriminant)) / (2*a)\n",
    "    root2 = (-b - cmath.sqrt(discriminant)) / (2*a)\n",
    "\n",
    "    return root1, root2\n",
    "\n",
    "def main():\n",
    "    'try'\n",
    "\n",
    "a = float(input(\"Enter the coefficient a: \"))\n",
    "b = float(input(\"Enter the coefficient b: \"))\n",
    "c = float(input(\"Enter the coefficient c: \"))\n",
    "\n",
    "\n",
    "discriminant = b**2 - 4*a*c\n",
    "\n",
    "\n",
    "root1 = (-b + cmath.sqrt(discriminant)) / (2*a)\n",
    "root2 = (-b - cmath.sqrt(discriminant)) / (2*a)\n",
    "\n",
    "\n",
    "print(f\"The roots of the quadratic equation are: {root1} and {root2}\")\n"
   ]
  },
  {
   "cell_type": "code",
   "execution_count": 18,
   "id": "633b1e78-fc7d-44b4-b536-5fa7e4a71d8f",
   "metadata": {},
   "outputs": [
    {
     "name": "stdin",
     "output_type": "stream",
     "text": [
      "Enter a number (1 for Monday, 2 for Tuesday, etc.):  2\n"
     ]
    },
    {
     "name": "stdout",
     "output_type": "stream",
     "text": [
      "The day corresponding to 2 is Tuesday.\n"
     ]
    }
   ],
   "source": [
    "day_number = int(input(\"Enter a number (1 for Monday, 2 for Tuesday, etc.): \"))\n",
    "\n",
    "\n",
    "days_of_week = [\"Monday\", \"Tuesday\", \"Wednesday\", \"Thursday\", \"Friday\", \"Saturday\", \"Sunday\"]\n",
    "\n",
    "if day_number <= 7:\n",
    "    day_of_week = days_of_week[day_number - 1]\n",
    "    print(f\"The day corresponding to {day_number} is {day_of_week}.\")\n",
    "else:\n",
    "    print(\"Invalid input.\")\n",
    "\n"
   ]
  },
  {
   "cell_type": "code",
   "execution_count": 19,
   "id": "353d1f69-6e5a-4f0d-8988-9257b79d4716",
   "metadata": {},
   "outputs": [
    {
     "name": "stdin",
     "output_type": "stream",
     "text": [
      "Enter a number to calculate its factorial:  5\n"
     ]
    },
    {
     "name": "stdout",
     "output_type": "stream",
     "text": [
      "The factorial of 5 is: 120\n"
     ]
    }
   ],
   "source": [
    "def factorial(n):\n",
    "    if n == 0 or n == 1:\n",
    "        return 1\n",
    "    else:\n",
    "        return n * factorial(n - 1)\n",
    "\n",
    "\n",
    "number = int(input(\"Enter a number to calculate its factorial: \"))\n",
    "\n",
    "\n",
    "if number < 0:\n",
    "    print(\"Factorial is undefined for negative numbers.\")\n",
    "else:\n",
    "    result = factorial(number)\n",
    "    print(f\"The factorial of {number} is: {result}\")\n"
   ]
  },
  {
   "cell_type": "code",
   "execution_count": 20,
   "id": "2942f781-3168-4bf8-b523-fd7320cedb40",
   "metadata": {},
   "outputs": [
    {
     "name": "stdin",
     "output_type": "stream",
     "text": [
      "Enter the first number:  4\n",
      "Enter the second number:  2\n",
      "Enter the third number:  6\n"
     ]
    },
    {
     "name": "stdout",
     "output_type": "stream",
     "text": [
      "The largest number among 4.0, 2.0, and 6.0 is: 6.0\n"
     ]
    }
   ],
   "source": [
    "num1 = float(input(\"Enter the first number: \"))\n",
    "num2 = float(input(\"Enter the second number: \"))\n",
    "num3 = float(input(\"Enter the third number: \"))\n",
    "\n",
    "largest = num1\n",
    "\n",
    "if num2 > largest:\n",
    "    largest = num2\n",
    "\n",
    "if num3 > largest:\n",
    "    largest = num3\n",
    "\n",
    "\n",
    "print(f\"The largest number among {num1}, {num2}, and {num3} is: {largest}\")\n"
   ]
  },
  {
   "cell_type": "code",
   "execution_count": null,
   "id": "a349778d-a51f-401b-b9ef-f50877f79504",
   "metadata": {},
   "outputs": [],
   "source": [
    "15"
   ]
  },
  {
   "cell_type": "code",
   "execution_count": 21,
   "id": "3230eb9d-99ac-4cda-80de-3d7877fd19d8",
   "metadata": {},
   "outputs": [
    {
     "name": "stdin",
     "output_type": "stream",
     "text": [
      "Enter a string:  mariya\n"
     ]
    },
    {
     "name": "stdout",
     "output_type": "stream",
     "text": [
      "mariya is not a palindrome.\n"
     ]
    }
   ],
   "source": [
    "def is_palindrome(input_str):\n",
    "    \n",
    "    clean_str = input_str.replace(\" \", \"\").lower()\n",
    "    \n",
    "    \n",
    "    return clean_str == clean_str[::-1]\n",
    "\n",
    "\n",
    "user_input = input(\"Enter a string: \")\n",
    "\n",
    "\n",
    "if is_palindrome(user_input):\n",
    "    print(f\"{user_input} is a palindrome.\")\n",
    "else:\n",
    "    print(f\"{user_input} is not a palindrome.\")\n"
   ]
  },
  {
   "cell_type": "code",
   "execution_count": null,
   "id": "bbf032ac-eb0c-4ea8-8ce7-1d59c932f639",
   "metadata": {},
   "outputs": [],
   "source": [
    "17"
   ]
  },
  {
   "cell_type": "code",
   "execution_count": 22,
   "id": "a6eb5070-2579-45ad-9a96-600af396b8a7",
   "metadata": {},
   "outputs": [
    {
     "name": "stdin",
     "output_type": "stream",
     "text": [
      "Enter the temperature in Celsius:  99\n"
     ]
    },
    {
     "name": "stdout",
     "output_type": "stream",
     "text": [
      "99.0 degrees Celsius is equal to 210.20 degrees Fahrenheit.\n"
     ]
    }
   ],
   "source": [
    "def celsius_to_fahrenheit(celsius):\n",
    "    return (celsius * 9/5) + 32\n",
    "\n",
    "\n",
    "celsius_temperature = float(input(\"Enter the temperature in Celsius: \"))\n",
    "\n",
    "fahrenheit_temperature = celsius_to_fahrenheit(celsius_temperature)\n",
    "print(f\"{celsius_temperature} degrees Celsius is equal to {fahrenheit_temperature:.2f} degrees Fahrenheit.\")\n"
   ]
  },
  {
   "cell_type": "code",
   "execution_count": null,
   "id": "f5a4a575-c496-4ce8-ae48-8179f25d372e",
   "metadata": {},
   "outputs": [],
   "source": [
    "19"
   ]
  },
  {
   "cell_type": "code",
   "execution_count": null,
   "id": "7d647cdd-9c48-49b4-94c1-7f48ca5692f7",
   "metadata": {},
   "outputs": [],
   "source": [
    "20"
   ]
  },
  {
   "cell_type": "code",
   "execution_count": 23,
   "id": "1cf5875d-ef88-4e45-a020-81bd90a9677b",
   "metadata": {},
   "outputs": [
    {
     "name": "stdin",
     "output_type": "stream",
     "text": [
      "Enter your income:  20000\n"
     ]
    },
    {
     "name": "stdout",
     "output_type": "stream",
     "text": [
      "Your income tax is: $3000.00\n"
     ]
    }
   ],
   "source": [
    "def calculate_income_tax(income):\n",
    "    tax_brackets = [(0, 10000, 0.1), (10001, 50000, 0.2), (50001, 100000, 0.3), (100001, float('inf'), 0.4)]\n",
    "\n",
    "    \n",
    "    tax = 0\n",
    "    remaining_income = income\n",
    "\n",
    "    for bracket in tax_brackets:\n",
    "        min_income, max_income, rate = bracket\n",
    "        if remaining_income <= 0:\n",
    "            break\n",
    "\n",
    "        taxable_amount = min(max_income - min_income, remaining_income)\n",
    "        tax += taxable_amount * rate\n",
    "        remaining_income -= taxable_amount\n",
    "\n",
    "    return tax\n",
    "\n",
    "\n",
    "try:\n",
    "    income = float(input(\"Enter your income: \"))\n",
    "except ValueError:\n",
    "    print(\"Invalid input. Please enter a valid income.\")\n",
    "    exit()\n",
    "\n",
    "income_tax = calculate_income_tax(income)\n",
    "print(f\"Your income tax is: ${income_tax:.2f}\")\n",
    "\n",
    "\n"
   ]
  },
  {
   "cell_type": "code",
   "execution_count": 24,
   "id": "04fda322-9f53-4a87-b1b9-01dd83cfe313",
   "metadata": {},
   "outputs": [
    {
     "name": "stdout",
     "output_type": "stream",
     "text": [
      "Choose: (1) Rock, (2) Paper, (3) Scissors\n"
     ]
    },
    {
     "name": "stdin",
     "output_type": "stream",
     "text": [
      "Enter your choice (1/2/3):  3\n"
     ]
    },
    {
     "name": "stdout",
     "output_type": "stream",
     "text": [
      "\n",
      "Your choice: 3\n",
      "Computer's choice: 1\n",
      "Computer wins!\n"
     ]
    },
    {
     "name": "stdin",
     "output_type": "stream",
     "text": [
      "\n",
      "Do you want to play again? (yes/no):  no\n"
     ]
    },
    {
     "name": "stdout",
     "output_type": "stream",
     "text": [
      "Thank you for playing. Goodbye!\n"
     ]
    }
   ],
   "source": [
    "import random\n",
    "\n",
    "def get_user_choice():\n",
    "    print(\"Choose: (1) Rock, (2) Paper, (3) Scissors\")\n",
    "    choice = input(\"Enter your choice (1/2/3): \")\n",
    "\n",
    "    if choice not in ['1', '2', '3']:\n",
    "        print(\"Invalid choice. Please enter 1, 2, or 3.\")\n",
    "        return get_user_choice()\n",
    "\n",
    "    return int(choice)\n",
    "\n",
    "def get_computer_choice():\n",
    "    return random.randint(1, 3)\n",
    "\n",
    "\n",
    "def determine_winner(user_choice, computer_choice):\n",
    "    if user_choice == computer_choice:\n",
    "        return \"It's a tie!\"\n",
    "    elif (user_choice == 1 and computer_choice == 3) or \\\n",
    "         (user_choice == 2 and computer_choice == 1) or \\\n",
    "         (user_choice == 3 and computer_choice == 2):\n",
    "        return \"You win!\"\n",
    "    else:\n",
    "        return \"Computer wins!\"\n",
    "\n",
    "while True:\n",
    "    user_choice = get_user_choice()\n",
    "    computer_choice = get_computer_choice()\n",
    "\n",
    "    print(f\"\\nYour choice: {user_choice}\")\n",
    "    print(f\"Computer's choice: {computer_choice}\")\n",
    "\n",
    "    result = determine_winner(user_choice, computer_choice)\n",
    "    print(result)\n",
    "\n",
    "    play_again = input(\"\\nDo you want to play again? (yes/no): \").lower()\n",
    "    if play_again != 'yes':\n",
    "        print(\"Thank you for playing. Goodbye!\")\n",
    "        break\n"
   ]
  },
  {
   "cell_type": "code",
   "execution_count": 25,
   "id": "7735f792-1191-4541-bbeb-11d94b56a220",
   "metadata": {},
   "outputs": [
    {
     "name": "stdin",
     "output_type": "stream",
     "text": [
      "Enter the desired password length:  4\n",
      "Include lowercase letters? (yes/no):  no\n",
      "Include uppercase letters? (yes/no):  no\n",
      "Include digits? (yes/no):  yes\n",
      "Include special characters? (yes/no):  no\n"
     ]
    },
    {
     "name": "stdout",
     "output_type": "stream",
     "text": [
      "\n",
      "Generated Password: 8731\n"
     ]
    }
   ],
   "source": [
    "import random\n",
    "import string\n",
    "\n",
    "def generate_password(length, include_lowercase, include_uppercase, include_digits, include_special_chars):\n",
    "    lowercase_chars = string.ascii_lowercase if include_lowercase else ''\n",
    "    uppercase_chars = string.ascii_uppercase if include_uppercase else ''\n",
    "    digit_chars = string.digits if include_digits else ''\n",
    "    special_chars = string.punctuation if include_special_chars else ''\n",
    "\n",
    "    all_chars = lowercase_chars + uppercase_chars + digit_chars + special_chars\n",
    "\n",
    "    if len(all_chars) == 0:\n",
    "        print(\"Error: No character set selected.\")\n",
    "        return None\n",
    "\n",
    "    password = ''.join(random.choice(all_chars) for _ in range(length))\n",
    "    return password\n",
    "\n",
    "length = int(input(\"Enter the desired password length: \"))\n",
    "include_lowercase = input(\"Include lowercase letters? (yes/no): \").lower() == 'yes'\n",
    "include_uppercase = input(\"Include uppercase letters? (yes/no): \").lower() == 'yes'\n",
    "include_digits = input(\"Include digits? (yes/no): \").lower() == 'yes'\n",
    "include_special_chars = input(\"Include special characters? (yes/no): \").lower() == 'yes'\n",
    "\n",
    "password = generate_password(length, include_lowercase, include_uppercase, include_digits, include_special_chars)\n",
    "\n",
    "if password:\n",
    "    print(f\"\\nGenerated Password: {password}\")\n"
   ]
  },
  {
   "cell_type": "code",
   "execution_count": 26,
   "id": "c676d7c9-fd5c-4917-bfff-db5986167e73",
   "metadata": {},
   "outputs": [
    {
     "name": "stdout",
     "output_type": "stream",
     "text": [
      "Welcome to the Adventure Game!\n",
      "You find yourself standing in front of a mysterious cave.\n",
      "Your goal is to reach the treasure at the end of the cave.\n",
      "What do you want to do?\n",
      "Options:\n",
      "1. Enter the cave\n",
      "2. Walk away\n"
     ]
    },
    {
     "name": "stdin",
     "output_type": "stream",
     "text": [
      "Enter your choice (1, 2, etc.):  1\n"
     ]
    },
    {
     "name": "stdout",
     "output_type": "stream",
     "text": [
      "You enter the cave.\n",
      "You find a fork in the path.\n",
      "Which path do you choose?\n",
      "Options:\n",
      "1. Go left\n",
      "2. Go right\n"
     ]
    },
    {
     "name": "stdin",
     "output_type": "stream",
     "text": [
      "Enter your choice (1, 2, etc.):  2\n"
     ]
    },
    {
     "name": "stdout",
     "output_type": "stream",
     "text": [
      "You find a hidden door. It leads to a secret passage.\n",
      "You continue through the passage.\n",
      "What do you want to do?\n",
      "Options:\n",
      "1. Open the treasure chest\n",
      "2. Leave the treasure\n"
     ]
    },
    {
     "name": "stdin",
     "output_type": "stream",
     "text": [
      "Enter your choice (1, 2, etc.):  2\n"
     ]
    },
    {
     "name": "stdout",
     "output_type": "stream",
     "text": [
      "You decide to leave the treasure. The adventure ends.\n"
     ]
    }
   ],
   "source": [
    "import time\n",
    "\n",
    "def introduction():\n",
    "    print(\"Welcome to the Adventure Game!\")\n",
    "    time.sleep(1)\n",
    "    print(\"You find yourself standing in front of a mysterious cave.\")\n",
    "    time.sleep(1)\n",
    "    print(\"Your goal is to reach the treasure at the end of the cave.\")\n",
    "    time.sleep(1)\n",
    "\n",
    "def make_choice(question, options):\n",
    "    print(question)\n",
    "    time.sleep(1)\n",
    "    print(\"Options:\")\n",
    "    for i, option in enumerate(options, start=1):\n",
    "        print(f\"{i}. {option}\")\n",
    "\n",
    "    choice = 0\n",
    "    while choice not in range(1, len(options) + 1):\n",
    "        try:\n",
    "            choice = int(input(\"Enter your choice (1, 2, etc.): \"))\n",
    "        except ValueError:\n",
    "            print(\"Invalid input. Please enter a number.\")\n",
    "\n",
    "    return choice\n",
    "\n",
    "def cave_scenario():\n",
    "    print(\"You enter the cave.\")\n",
    "    time.sleep(1)\n",
    "    print(\"You find a fork in the path.\")\n",
    "\n",
    "    choices = [\"Go left\", \"Go right\"]\n",
    "    choice = make_choice(\"Which path do you choose?\", choices)\n",
    "\n",
    "    if choice == 1:\n",
    "        print(\"You encounter a pack of bats. They don't seem friendly!\")\n",
    "        time.sleep(1)\n",
    "        print(\"Game Over! Better luck next time.\")\n",
    "    else:\n",
    "        print(\"You find a hidden door. It leads to a secret passage.\")\n",
    "        time.sleep(1)\n",
    "        print(\"You continue through the passage.\")\n",
    "\n",
    "def treasure_scenario():\n",
    "    print(\"You reach a large chamber with a shining treasure chest.\")\n",
    "    time.sleep(1)\n",
    "    print(\"Congratulations! You've found the treasure!\")\n",
    "    time.sleep(1)\n",
    "    print(\"You win!\")\n",
    "\n",
    "def main():\n",
    "    introduction()\n",
    "\n",
    "    # First decision\n",
    "    choices = [\"Enter the cave\", \"Walk away\"]\n",
    "    choice = make_choice(\"What do you want to do?\", choices)\n",
    "\n",
    "    if choice == 1:\n",
    "        cave_scenario()\n",
    "        # Second decision\n",
    "        choices = [\"Open the treasure chest\", \"Leave the treasure\"]\n",
    "        choice = make_choice(\"What do you want to do?\", choices)\n",
    "\n",
    "        if choice == 1:\n",
    "            treasure_scenario()\n",
    "        else:\n",
    "            print(\"You decide to leave the treasure. The adventure ends.\")\n",
    "    else:\n",
    "        print(\"You walk away from the cave. The adventure ends.\")\n",
    "\n",
    "if __name__ == \"__main__\":\n",
    "    main()\n"
   ]
  },
  {
   "cell_type": "code",
   "execution_count": 27,
   "id": "f6b7f377-e64c-4882-8994-a6205b34661d",
   "metadata": {},
   "outputs": [
    {
     "name": "stdin",
     "output_type": "stream",
     "text": [
      "Enter the coefficient 'a':  4\n",
      "Enter the coefficient 'b':  6\n"
     ]
    },
    {
     "name": "stdout",
     "output_type": "stream",
     "text": [
      "The solution for x is: -1.5\n"
     ]
    }
   ],
   "source": [
    "def solve_linear_equation(a, b):\n",
    "    if a == 0:\n",
    "        if b == 0:\n",
    "            return \"Infinite solutions (all real numbers are solutions)\"\n",
    "        else:\n",
    "            return \"No solution (contradiction)\"\n",
    "    else:\n",
    "        x = -b / a\n",
    "        return f\"The solution for x is: {x}\"\n",
    "\n",
    "# Example:\n",
    "a = float(input(\"Enter the coefficient 'a': \"))\n",
    "b = float(input(\"Enter the coefficient 'b': \"))\n",
    "\n",
    "result = solve_linear_equation(a, b)\n",
    "print(result)\n"
   ]
  },
  {
   "cell_type": "code",
   "execution_count": 28,
   "id": "21ffb37a-a7d5-4413-84ff-39e7a3d5a5de",
   "metadata": {},
   "outputs": [
    {
     "name": "stdout",
     "output_type": "stream",
     "text": [
      "What is the capital of France?\n",
      "1. Berlin\n",
      "2. Paris\n",
      "3. London\n",
      "4. Rome\n"
     ]
    },
    {
     "name": "stdin",
     "output_type": "stream",
     "text": [
      "Enter the number of your answer:  2\n"
     ]
    },
    {
     "name": "stdout",
     "output_type": "stream",
     "text": [
      "Correct!\n",
      "\n",
      "Which planet is known as the Red Planet?\n",
      "1. Mars\n",
      "2. Jupiter\n",
      "3. Venus\n",
      "4. Saturn\n"
     ]
    },
    {
     "name": "stdin",
     "output_type": "stream",
     "text": [
      "Enter the number of your answer:  4\n"
     ]
    },
    {
     "name": "stdout",
     "output_type": "stream",
     "text": [
      "Wrong! The correct answer was 1: Mars\n",
      "\n",
      "What is the largest mammal on Earth?\n",
      "1. Elephant\n",
      "2. Blue Whale\n",
      "3. Giraffe\n",
      "4. Gorilla\n"
     ]
    },
    {
     "name": "stdin",
     "output_type": "stream",
     "text": [
      "Enter the number of your answer:  1\n"
     ]
    },
    {
     "name": "stdout",
     "output_type": "stream",
     "text": [
      "Wrong! The correct answer was 2: Blue Whale\n",
      "\n",
      "Quiz completed! Your score: 1/3\n"
     ]
    }
   ],
   "source": [
    "class Quiz:\n",
    "    def __init__(self, questions):\n",
    "        self.questions = questions\n",
    "        self.score = 0\n",
    "\n",
    "    def display_question(self, question):\n",
    "        print(question[\"question\"])\n",
    "        for i, option in enumerate(question[\"options\"], start=1):\n",
    "            print(f\"{i}. {option}\")\n",
    "        return int(input(\"Enter the number of your answer: \"))\n",
    "\n",
    "    def run_quiz(self):\n",
    "        for question in self.questions:\n",
    "            user_answer = self.display_question(question)\n",
    "            correct_answer = question[\"correct_option\"]\n",
    "\n",
    "            if user_answer == correct_answer:\n",
    "                print(\"Correct!\\n\")\n",
    "                self.score += 1\n",
    "            else:\n",
    "                print(f\"Wrong! The correct answer was {correct_answer}: {question['options'][correct_answer - 1]}\\n\")\n",
    "\n",
    "        print(f\"Quiz completed! Your score: {self.score}/{len(self.questions)}\")\n",
    "\n",
    "\n",
    "# Example quiz questions\n",
    "quiz_questions = [\n",
    "    {\n",
    "        \"question\": \"What is the capital of France?\",\n",
    "        \"options\": [\"Berlin\", \"Paris\", \"London\", \"Rome\"],\n",
    "        \"correct_option\": 2,\n",
    "    },\n",
    "    {\n",
    "        \"question\": \"Which planet is known as the Red Planet?\",\n",
    "        \"options\": [\"Mars\", \"Jupiter\", \"Venus\", \"Saturn\"],\n",
    "        \"correct_option\": 1,\n",
    "    },\n",
    "    {\n",
    "        \"question\": \"What is the largest mammal on Earth?\",\n",
    "        \"options\": [\"Elephant\", \"Blue Whale\", \"Giraffe\", \"Gorilla\"],\n",
    "        \"correct_option\": 2,\n",
    "    },\n",
    "]\n",
    "\n",
    "my_quiz = Quiz(quiz_questions)\n",
    "my_quiz.run_quiz()\n"
   ]
  },
  {
   "cell_type": "code",
   "execution_count": 29,
   "id": "5efffb2b-0abd-40fc-b19c-1fb398f9cf6a",
   "metadata": {},
   "outputs": [
    {
     "name": "stdin",
     "output_type": "stream",
     "text": [
      "Enter a year to check if it's prime:  2012\n"
     ]
    },
    {
     "name": "stdout",
     "output_type": "stream",
     "text": [
      "2012 is not a prime year.\n"
     ]
    }
   ],
   "source": [
    "def is_prime(year):\n",
    "    if year <= 1:\n",
    "        return False\n",
    "    for i in range(2, int(year**0.5) + 1):\n",
    "        if year % i == 0:\n",
    "            return False\n",
    "    return True\n",
    "\n",
    "def main():\n",
    "    year = int(input(\"Enter a year to check if it's prime: \"))\n",
    "    if is_prime(year):\n",
    "        print(f\"{year} is a prime year!\")\n",
    "    else:\n",
    "        print(f\"{year} is not a prime year.\")\n",
    "\n",
    "if __name__ == \"__main__\":\n",
    "    main()\n"
   ]
  },
  {
   "cell_type": "code",
   "execution_count": 30,
   "id": "0e94464e-4282-46f6-8f2b-139a2a260ec0",
   "metadata": {},
   "outputs": [
    {
     "name": "stdin",
     "output_type": "stream",
     "text": [
      "Enter the first number:  2\n",
      "Enter the second number:  4\n",
      "Enter the third number:  6\n"
     ]
    },
    {
     "name": "stdout",
     "output_type": "stream",
     "text": [
      "Sorted numbers in ascending order: (2.0, 4.0, 6.0)\n"
     ]
    }
   ],
   "source": [
    "def sort_numbers(a, b, c):\n",
    "    if a <= b and a <= c:\n",
    "        smallest = a\n",
    "        if b <= c:\n",
    "            middle = b\n",
    "            largest = c\n",
    "        else:\n",
    "            middle = c\n",
    "            largest = b\n",
    "    elif b <= a and b <= c:\n",
    "        smallest = b\n",
    "        if a <= c:\n",
    "            middle = a\n",
    "            largest = c\n",
    "        else:\n",
    "            middle = c\n",
    "            largest = a\n",
    "    else:\n",
    "        smallest = c\n",
    "        if a <= b:\n",
    "            middle = a\n",
    "            largest = b\n",
    "        else:\n",
    "            middle = b\n",
    "            largest = a\n",
    "\n",
    "    return smallest, middle, largest\n",
    "\n",
    "def main():\n",
    "    num1 = float(input(\"Enter the first number: \"))\n",
    "    num2 = float(input(\"Enter the second number: \"))\n",
    "    num3 = float(input(\"Enter the third number: \"))\n",
    "\n",
    "    sorted_numbers = sort_numbers(num1, num2, num3)\n",
    "\n",
    "    print(\"Sorted numbers in ascending order:\", sorted_numbers)\n",
    "\n",
    "if __name__ == \"__main__\":\n",
    "    main()\n"
   ]
  },
  {
   "cell_type": "code",
   "execution_count": null,
   "id": "708d5197-77d0-4dab-91d8-04c2aca2cc71",
   "metadata": {},
   "outputs": [],
   "source": [
    "29"
   ]
  },
  {
   "cell_type": "code",
   "execution_count": 31,
   "id": "6e0f3e9f-e800-4054-a180-912319b804c3",
   "metadata": {},
   "outputs": [
    {
     "name": "stdin",
     "output_type": "stream",
     "text": [
      "Enter your weight in kilograms:  88\n",
      "Enter your height in meters:  260\n"
     ]
    },
    {
     "name": "stdout",
     "output_type": "stream",
     "text": [
      "Your BMI is: 0.00\n",
      "Health Recommendation: Underweight: Consider gaining some weight for better health.\n"
     ]
    }
   ],
   "source": [
    "def calculate_bmi(weight, height):\n",
    "\n",
    "    bmi = weight / (height ** 2)\n",
    "    return bmi\n",
    "\n",
    "def interpret_bmi(bmi):\n",
    "   \n",
    "    if bmi < 18.5:\n",
    "        return \"Underweight: Consider gaining some weight for better health.\"\n",
    "    elif bmi < 24.9:\n",
    "        return \"Normal weight: Keep up the good work!\"\n",
    "    elif bmi < 29.9:\n",
    "        return \"Overweight: Consider losing some weight for better health.\"\n",
    "    else:\n",
    "        return \"Obese: It's important to focus on a healthy lifestyle and consider weight loss.\"\n",
    "\n",
    "def main():\n",
    "    try:\n",
    "        weight = float(input(\"Enter your weight in kilograms: \"))\n",
    "        height = float(input(\"Enter your height in meters: \"))\n",
    "\n",
    "        bmi = calculate_bmi(weight, height)\n",
    "        print(f\"Your BMI is: {bmi:.2f}\")\n",
    "\n",
    "        recommendation = interpret_bmi(bmi)\n",
    "        print(\"Health Recommendation:\", recommendation)\n",
    "\n",
    "    except ValueError:\n",
    "        print(\"Invalid input\")\n",
    "\n",
    "if __name__ == \"__main__\":\n",
    "    main()\n",
    "\n"
   ]
  },
  {
   "cell_type": "code",
   "execution_count": null,
   "id": "08134c09-1ac3-453a-8268-9068f482e0d8",
   "metadata": {},
   "outputs": [],
   "source": [
    "31"
   ]
  },
  {
   "cell_type": "code",
   "execution_count": 33,
   "id": "adc9154b-7e00-4671-9886-0af35b337177",
   "metadata": {},
   "outputs": [
    {
     "name": "stdin",
     "output_type": "stream",
     "text": [
      "Enter the number of rows for the matrices:  2\n",
      "Enter the number of columns for the matrices:  2\n"
     ]
    },
    {
     "name": "stdout",
     "output_type": "stream",
     "text": [
      "Enter elements for Matrix A:\n"
     ]
    },
    {
     "name": "stdin",
     "output_type": "stream",
     "text": [
      "Enter element at position (1, 1):  2\n",
      "Enter element at position (1, 2):  3\n",
      "Enter element at position (2, 1):  4\n",
      "Enter element at position (2, 2):  5\n"
     ]
    },
    {
     "name": "stdout",
     "output_type": "stream",
     "text": [
      "\n",
      "Enter elements for Matrix B:\n"
     ]
    },
    {
     "name": "stdin",
     "output_type": "stream",
     "text": [
      "Enter element at position (1, 1):  1\n",
      "Enter element at position (1, 2):  2\n",
      "Enter element at position (2, 1):  3\n",
      "Enter element at position (2, 2):  4\n"
     ]
    },
    {
     "name": "stdout",
     "output_type": "stream",
     "text": [
      "\n",
      "Matrix A:\n",
      "Matrix A:\n",
      "[2.0, 3.0]\n",
      "[4.0, 5.0]\n",
      "\n",
      "Matrix B:\n",
      "Matrix B:\n",
      "[1.0, 2.0]\n",
      "[3.0, 4.0]\n",
      "\n",
      "Matrix Addition:\n",
      "Result Addition:\n",
      "[3.0, 5.0]\n",
      "[7.0, 9.0]\n",
      "\n",
      "Matrix Subtraction:\n",
      "Result Subtraction:\n",
      "[1.0, 1.0]\n",
      "[1.0, 1.0]\n"
     ]
    }
   ],
   "source": [
    "def matrix_addition(matrix_a, matrix_b):\n",
    "\n",
    "    result_matrix = [[0 for _ in range(len(matrix_a[0]))] for _ in range(len(matrix_a))]\n",
    "\n",
    "    for i in range(len(matrix_a)):\n",
    "        for j in range(len(matrix_a[0])):\n",
    "            result_matrix[i][j] = matrix_a[i][j] + matrix_b[i][j]\n",
    "\n",
    "    return result_matrix\n",
    "\n",
    "def matrix_subtraction(matrix_a, matrix_b):\n",
    "  \n",
    "    result_matrix = [[0 for _ in range(len(matrix_a[0]))] for _ in range(len(matrix_a))]\n",
    "\n",
    "    for i in range(len(matrix_a)):\n",
    "        for j in range(len(matrix_a[0])):\n",
    "            result_matrix[i][j] = matrix_a[i][j] - matrix_b[i][j]\n",
    "\n",
    "    return result_matrix\n",
    "\n",
    "def input_matrix(rows, cols):\n",
    "    \"\"\"\n",
    "    Take user input to create a matrix.\n",
    "    \"\"\"\n",
    "    matrix = []\n",
    "    for i in range(rows):\n",
    "        row = []\n",
    "        for j in range(cols):\n",
    "            element = float(input(f\"Enter element at position ({i + 1}, {j + 1}): \"))\n",
    "            row.append(element)\n",
    "        matrix.append(row)\n",
    "    return matrix\n",
    "\n",
    "def print_matrix(matrix, label):\n",
    "  \n",
    "    print(f\"{label}:\")\n",
    "    for row in matrix:\n",
    "        print(row)\n",
    "\n",
    "def main():\n",
    "    try:\n",
    "        rows = int(input(\"Enter the number of rows for the matrices: \"))\n",
    "        cols = int(input(\"Enter the number of columns for the matrices: \"))\n",
    "\n",
    "        print(\"Enter elements for Matrix A:\")\n",
    "        matrix_a = input_matrix(rows, cols)\n",
    "\n",
    "        print(\"\\nEnter elements for Matrix B:\")\n",
    "        matrix_b = input_matrix(rows, cols)\n",
    "\n",
    "        print(\"\\nMatrix A:\")\n",
    "        print_matrix(matrix_a, \"Matrix A\")\n",
    "\n",
    "        print(\"\\nMatrix B:\")\n",
    "        print_matrix(matrix_b, \"Matrix B\")\n",
    "\n",
    "        # Perform matrix addition\n",
    "        result_addition = matrix_addition(matrix_a, matrix_b)\n",
    "        print(\"\\nMatrix Addition:\")\n",
    "        print_matrix(result_addition, \"Result Addition\")\n",
    "\n",
    "        # Perform matrix subtraction\n",
    "        result_subtraction = matrix_subtraction(matrix_a, matrix_b)\n",
    "        print(\"\\nMatrix Subtraction:\")\n",
    "        print_matrix(result_subtraction, \"Result Subtraction\")\n",
    "\n",
    "    except ValueError:\n",
    "        print(\"Invalid input. Please enter valid numerical values for rows, columns, and matrix elements.\")\n",
    "\n",
    "if __name__ == \"__main__\":\n",
    "    main()"
   ]
  },
  {
   "cell_type": "code",
   "execution_count": 34,
   "id": "22b9b32d-71f2-4134-9bc0-a55b33617a35",
   "metadata": {},
   "outputs": [
    {
     "name": "stdin",
     "output_type": "stream",
     "text": [
      "Enter the first number:  2\n",
      "Enter the second number:  3\n"
     ]
    },
    {
     "name": "stdout",
     "output_type": "stream",
     "text": [
      "The GCD of 2 and 3 is: 1\n"
     ]
    }
   ],
   "source": [
    "def euclidean_algorithm(a, b):\n",
    " \n",
    "    while b:\n",
    "        a, b = b, a % b\n",
    "    return a\n",
    "\n",
    "def main():\n",
    "    try:\n",
    "        num1 = int(input(\"Enter the first number: \"))\n",
    "        num2 = int(input(\"Enter the second number: \"))\n",
    "\n",
    "        if num1 < 0 or num2 < 0:\n",
    "            raise ValueError(\"Please enter non-negative integers.\")\n",
    "\n",
    "        gcd = euclidean_algorithm(num1, num2)\n",
    "\n",
    "        print(f\"The GCD of {num1} and {num2} is: {gcd}\")\n",
    "\n",
    "    except ValueError as e:\n",
    "        print(f\"Invalid input: {e}\")\n",
    "\n",
    "if __name__ == \"__main__\":\n",
    "    main()\n"
   ]
  },
  {
   "cell_type": "code",
   "execution_count": null,
   "id": "80548e0a-77a3-4f2b-a3da-d03d42147f26",
   "metadata": {},
   "outputs": [
    {
     "name": "stdin",
     "output_type": "stream",
     "text": [
      "Enter the number of rows for Matrix A:  2\n",
      "Enter the number of columns for Matrix A:  2\n"
     ]
    },
    {
     "name": "stdout",
     "output_type": "stream",
     "text": [
      "Enter elements for Matrix A:\n"
     ]
    },
    {
     "name": "stdin",
     "output_type": "stream",
     "text": [
      "Enter element at position (1, 1):  1\n",
      "Enter element at position (1, 2):  2\n",
      "Enter element at position (2, 1):  3\n",
      "Enter element at position (2, 2):  4\n",
      "\n",
      "Enter the number of rows for Matrix B:  5\n",
      "Enter the number of columns for Matrix B:  6\n"
     ]
    },
    {
     "name": "stdout",
     "output_type": "stream",
     "text": [
      "\n",
      "Enter elements for Matrix B:\n"
     ]
    },
    {
     "name": "stdin",
     "output_type": "stream",
     "text": [
      "Enter element at position (1, 1):  7\n",
      "Enter element at position (1, 2):  87\n",
      "Enter element at position (1, 3):  9\n",
      "Enter element at position (1, 4):  9\n",
      "Enter element at position (1, 5):  1\n",
      "Enter element at position (1, 6):  2\n",
      "Enter element at position (2, 1):  3\n",
      "Enter element at position (2, 2):  4\n",
      "Enter element at position (2, 3):  5\n",
      "Enter element at position (2, 4):  6\n",
      "Enter element at position (2, 5):  1\n",
      "Enter element at position (2, 6):  2\n",
      "Enter element at position (3, 1):  3\n",
      "Enter element at position (3, 2):  4\n",
      "Enter element at position (3, 3):  1\n",
      "Enter element at position (3, 4):  2\n",
      "Enter element at position (3, 5):  2\n",
      "Enter element at position (3, 6):  2\n",
      "Enter element at position (4, 1):  2\n",
      "Enter element at position (4, 2):  2\n",
      "Enter element at position (4, 3):  2\n",
      "Enter element at position (4, 4):  2\n"
     ]
    }
   ],
   "source": [
    "def matrix_multiplication(matrix_a, matrix_b):\n",
    " \n",
    "    rows_a = len(matrix_a)\n",
    "    cols_a = len(matrix_a[0])\n",
    "    rows_b = len(matrix_b)\n",
    "    cols_b = len(matrix_b[0])\n",
    "\n",
    "    if cols_a != rows_b:\n",
    "        raise ValueError(\"Matrices cannot be multiplied. Number of columns in Matrix A must be equal to the number of rows in Matrix B.\")\n",
    "\n",
    "    \n",
    "    result_matrix = [[0 for _ in range(cols_b)] for _ in range(rows_a)]\n",
    "\n",
    "    for i in range(rows_a):\n",
    "        for j in range(cols_b):\n",
    "            for k in range(cols_a):\n",
    "                result_matrix[i][j] += matrix_a[i][k] * matrix_b[k][j]\n",
    "\n",
    "    return result_matrix\n",
    "\n",
    "def input_matrix(rows, cols):\n",
    " \n",
    "    matrix = []\n",
    "    for i in range(rows):\n",
    "        row = []\n",
    "        for j in range(cols):\n",
    "            element = float(input(f\"Enter element at position ({i + 1}, {j + 1}): \"))\n",
    "            row.append(element)\n",
    "        matrix.append(row)\n",
    "    return matrix\n",
    "\n",
    "def print_matrix(matrix, label):\n",
    "   \n",
    "    print(f\"{label}:\")\n",
    "    for row in matrix:\n",
    "        print(row)\n",
    "\n",
    "def main():\n",
    "    try:\n",
    "        rows_a = int(input(\"Enter the number of rows for Matrix A: \"))\n",
    "        cols_a = int(input(\"Enter the number of columns for Matrix A: \"))\n",
    "\n",
    "        print(\"Enter elements for Matrix A:\")\n",
    "        matrix_a = input_matrix(rows_a, cols_a)\n",
    "\n",
    "        rows_b = int(input(\"\\nEnter the number of rows for Matrix B: \"))\n",
    "        cols_b = int(input(\"Enter the number of columns for Matrix B: \"))\n",
    "\n",
    "        print(\"\\nEnter elements for Matrix B:\")\n",
    "        matrix_b = input_matrix(rows_b, cols_b)\n",
    "\n",
    "        print(\"\\nMatrix A:\")\n",
    "        print_matrix(matrix_a, \"Matrix A\")\n",
    "\n",
    "        print(\"\\nMatrix B:\")\n",
    "        print_matrix(matrix_b, \"Matrix B\")\n",
    "\n",
    "        # Perform matrix multiplication\n",
    "        result_multiplication = matrix_multiplication(matrix_a, matrix_b)\n",
    "        print(\"\\nMatrix Multiplication:\")\n",
    "        print_matrix(result_multiplication, \"Result Multiplication\")\n",
    "\n",
    "    except ValueError as e:\n",
    "        print(f\"Invalid input: {e}\")\n",
    "\n",
    "if __name__ == \"__main__\":\n",
    "    main()\n",
    "\n"
   ]
  },
  {
   "cell_type": "code",
   "execution_count": 1,
   "id": "b63b3ff5-db36-490e-a1bb-c9c698d46d9b",
   "metadata": {},
   "outputs": [
    {
     "name": "stdout",
     "output_type": "stream",
     "text": [
      "Welcome to Tic-Tac-Toe!\n",
      " | | \n",
      "-----\n",
      " | | \n",
      "-----\n",
      " | | \n",
      "-----\n"
     ]
    },
    {
     "name": "stdin",
     "output_type": "stream",
     "text": [
      "Enter the row (1, 2, or 3):  1\n",
      "Enter the column (1, 2, or 3):  3\n"
     ]
    },
    {
     "name": "stdout",
     "output_type": "stream",
     "text": [
      "Computer's turn:\n",
      " | |X\n",
      "-----\n",
      " | |O\n",
      "-----\n",
      " | | \n",
      "-----\n"
     ]
    },
    {
     "name": "stdin",
     "output_type": "stream",
     "text": [
      "Enter the row (1, 2, or 3):  2\n",
      "Enter the column (1, 2, or 3):  1\n"
     ]
    },
    {
     "name": "stdout",
     "output_type": "stream",
     "text": [
      "Computer's turn:\n",
      " | |X\n",
      "-----\n",
      "X| |O\n",
      "-----\n",
      "O| | \n",
      "-----\n"
     ]
    },
    {
     "name": "stdin",
     "output_type": "stream",
     "text": [
      "Enter the row (1, 2, or 3):  3\n",
      "Enter the column (1, 2, or 3):  1\n"
     ]
    },
    {
     "name": "stdout",
     "output_type": "stream",
     "text": [
      "Invalid move. Try again.\n"
     ]
    },
    {
     "name": "stdin",
     "output_type": "stream",
     "text": [
      "Enter the row (1, 2, or 3):  3\n",
      "Enter the column (1, 2, or 3):  1\n"
     ]
    },
    {
     "name": "stdout",
     "output_type": "stream",
     "text": [
      "Invalid move. Try again.\n"
     ]
    },
    {
     "name": "stdin",
     "output_type": "stream",
     "text": [
      "Enter the row (1, 2, or 3):  1\n",
      "Enter the column (1, 2, or 3):  1\n"
     ]
    },
    {
     "name": "stdout",
     "output_type": "stream",
     "text": [
      "Computer's turn:\n",
      "X| |X\n",
      "-----\n",
      "X| |O\n",
      "-----\n",
      "O| |O\n",
      "-----\n"
     ]
    },
    {
     "name": "stdin",
     "output_type": "stream",
     "text": [
      "Enter the row (1, 2, or 3):  1\n",
      "Enter the column (1, 2, or 3):  1\n"
     ]
    },
    {
     "name": "stdout",
     "output_type": "stream",
     "text": [
      "Invalid move. Try again.\n"
     ]
    },
    {
     "name": "stdin",
     "output_type": "stream",
     "text": [
      "Enter the row (1, 2, or 3):  1\n",
      "Enter the column (1, 2, or 3):  2\n"
     ]
    },
    {
     "name": "stdout",
     "output_type": "stream",
     "text": [
      "X|X|X\n",
      "-----\n",
      "X| |O\n",
      "-----\n",
      "O| |O\n",
      "-----\n",
      "Congratulations! You win!\n"
     ]
    }
   ],
   "source": [
    "import random\n",
    "\n",
    "def print_board(board):\n",
    "  \n",
    "    for row in board:\n",
    "        print(\"|\".join(row))\n",
    "        print(\"-----\")\n",
    "\n",
    "def is_winner(board, player):\n",
    " \n",
    "    for i in range(3):\n",
    "        if all(board[i][j] == player for j in range(3)) or all(board[j][i] == player for j in range(3)):\n",
    "            return True\n",
    "\n",
    "    # Check diagonals\n",
    "    if all(board[i][i] == player for i in range(3)) or all(board[i][2 - i] == player for i in range(3)):\n",
    "        return True\n",
    "\n",
    "    return False\n",
    "\n",
    "def is_board_full(board):\n",
    "    \"\"\"\n",
    "    Check if the Tic-Tac-Toe board is full.\n",
    "    \"\"\"\n",
    "    return all(board[i][j] != \" \" for i in range(3) for j in range(3))\n",
    "\n",
    "def player_move(board):\n",
    "\n",
    "    while True:\n",
    "        try:\n",
    "            row = int(input(\"Enter the row (1, 2, or 3): \")) - 1\n",
    "            col = int(input(\"Enter the column (1, 2, or 3): \")) - 1\n",
    "\n",
    "            if 0 <= row < 3 and 0 <= col < 3 and board[row][col] == \" \":\n",
    "                return row, col\n",
    "            else:\n",
    "                print(\"Invalid move. Try again.\")\n",
    "\n",
    "        except ValueError:\n",
    "            print(\"Invalid input. Enter a number.\")\n",
    "\n",
    "def computer_move(board):\n",
    "\n",
    "    available_moves = [(i, j) for i in range(3) for j in range(3) if board[i][j] == \" \"]\n",
    "    return random.choice(available_moves)\n",
    "\n",
    "def main():\n",
    "    board = [[\" \" for _ in range(3)] for _ in range(3)]\n",
    "    player_symbol = \"X\"\n",
    "    computer_symbol = \"O\"\n",
    "\n",
    "    print(\"Welcome to Tic-Tac-Toe!\")\n",
    "\n",
    "    while True:\n",
    "        print_board(board)\n",
    "\n",
    "        # Player's move\n",
    "        player_row, player_col = player_move(board)\n",
    "        board[player_row][player_col] = player_symbol\n",
    "\n",
    "        # Check if the player has won\n",
    "        if is_winner(board, player_symbol):\n",
    "            print_board(board)\n",
    "            print(\"Congratulations! You win!\")\n",
    "            break\n",
    "\n",
    "        # Check if the board is full (draw)\n",
    "        if is_board_full(board):\n",
    "            print_board(board)\n",
    "            print(\"It's a draw! Game over.\")\n",
    "            break\n",
    "\n",
    "        # Computer's move\n",
    "        print(\"Computer's turn:\")\n",
    "        computer_row, computer_col = computer_move(board)\n",
    "        board[computer_row][computer_col] = computer_symbol\n",
    "\n",
    "\n",
    "        if is_winner(board, computer_symbol):\n",
    "            print_board(board)\n",
    "            print(\"Sorry, the computer wins. Try again.\")\n",
    "            break\n",
    "\n",
    "if __name__ == \"__main__\":\n",
    "    main()\n"
   ]
  },
  {
   "cell_type": "code",
   "execution_count": 2,
   "id": "e10e020a-c7eb-431a-8601-b2c3eeb404d8",
   "metadata": {},
   "outputs": [
    {
     "name": "stdin",
     "output_type": "stream",
     "text": [
      "Enter the number of terms for the Fibonacci sequence:  3\n"
     ]
    },
    {
     "name": "stdout",
     "output_type": "stream",
     "text": [
      "Fibonacci sequence up to the 3th term: [0, 1, 1]\n"
     ]
    }
   ],
   "source": [
    "def generate_fibonacci(n):\n",
    " \n",
    "    fibonacci_sequence = [0, 1]\n",
    "\n",
    "    for i in range(2, n):\n",
    "        next_term = fibonacci_sequence[i-1] + fibonacci_sequence[i-2]\n",
    "        fibonacci_sequence.append(next_term)\n",
    "\n",
    "    return fibonacci_sequence\n",
    "\n",
    "def main():\n",
    "    try:\n",
    "        n = int(input(\"Enter the number of terms for the Fibonacci sequence: \"))\n",
    "\n",
    "        if n <= 0:\n",
    "            raise ValueError(\"Please enter a positive integer.\")\n",
    "\n",
    "        fibonacci_sequence = generate_fibonacci(n)\n",
    "        print(f\"Fibonacci sequence up to the {n}th term:\", fibonacci_sequence)\n",
    "\n",
    "    except ValueError as e:\n",
    "        print(f\"Invalid input: {e}\")\n",
    "\n",
    "if __name__ == \"__main__\":\n",
    "    main()"
   ]
  },
  {
   "cell_type": "code",
   "execution_count": 3,
   "id": "214ce2af-3db3-47af-82be-98bc49b81074",
   "metadata": {},
   "outputs": [
    {
     "name": "stdin",
     "output_type": "stream",
     "text": [
      "Enter the value of n for the Fibonacci sequence:  3\n"
     ]
    },
    {
     "name": "stdout",
     "output_type": "stream",
     "text": [
      "The 3th term of the Fibonacci sequence is: 2\n"
     ]
    }
   ],
   "source": [
    "def fibonacci_with_memoization(n, memo={}):\n",
    "\n",
    "    if n <= 1:\n",
    "        return n\n",
    "\n",
    "    if n not in memo:\n",
    "        memo[n] = fibonacci_with_memoization(n-1, memo) + fibonacci_with_memoization(n-2, memo)\n",
    "\n",
    "    return memo[n]\n",
    "\n",
    "def main():\n",
    "    try:\n",
    "        n = int(input(\"Enter the value of n for the Fibonacci sequence: \"))\n",
    "\n",
    "        if n < 0:\n",
    "            raise ValueError(\"Please enter a non-negative integer.\")\n",
    "\n",
    "        nth_term = fibonacci_with_memoization(n)\n",
    "        print(f\"The {n}th term of the Fibonacci sequence is: {nth_term}\")\n",
    "\n",
    "    except ValueError as e:\n",
    "        print(f\"Invalid input: {e}\")\n",
    "\n",
    "if __name__ == \"__main__\":\n",
    "    main()\n"
   ]
  },
  {
   "cell_type": "code",
   "execution_count": 4,
   "id": "2af8fe26-0eaf-4230-9755-6c755c8dc5b9",
   "metadata": {},
   "outputs": [
    {
     "name": "stdin",
     "output_type": "stream",
     "text": [
      "Enter the year:  2024\n",
      "Enter the month (1-12):  1\n"
     ]
    },
    {
     "name": "stdout",
     "output_type": "stream",
     "text": [
      "Calendar for January 2024:\n",
      " Mo Tu We Th Fr Sa Su\n",
      " 1  2  3  4  5  6  7 \n",
      " 8  9 10 11 12 13 14 \n",
      "15 16 17 18 19 20 21 \n",
      "22 23 24 25 26 27 28 \n",
      "29 30 31             \n"
     ]
    }
   ],
   "source": [
    "import calendar\n",
    "\n",
    "def generate_calendar(year, month):\n",
    "  \n",
    "    cal = calendar.monthcalendar(year, month)\n",
    "\n",
    "    print(f\"Calendar for {calendar.month_name[month]} {year}:\")\n",
    "\n",
    "    print(\" Mo Tu We Th Fr Sa Su\")\n",
    "    for week in cal:\n",
    "        for day in week:\n",
    "            if day == 0:\n",
    "                print(\"   \", end=\"\")\n",
    "            else:\n",
    "                print(f\"{day:2} \", end=\"\")\n",
    "        print()\n",
    "\n",
    "def main():\n",
    "    try:\n",
    "        year = int(input(\"Enter the year: \"))\n",
    "        month = int(input(\"Enter the month (1-12): \"))\n",
    "\n",
    "        if 1 <= month <= 12:\n",
    "            generate_calendar(year, month)\n",
    "        else:\n",
    "            print(\"Invalid month. Please enter a value between 1 and 12.\")\n",
    "\n",
    "    except ValueError:\n",
    "        print(\"Invalid input. Please enter valid numerical values for year and month.\")\n",
    "\n",
    "if __name__ == \"__main__\":\n",
    "    main()"
   ]
  },
  {
   "cell_type": "code",
   "execution_count": 5,
   "id": "58aa0aa1-5d3b-414a-b01a-ed698a655958",
   "metadata": {},
   "outputs": [
    {
     "name": "stdout",
     "output_type": "stream",
     "text": [
      "Welcome to Blackjack!\n",
      "\n",
      "Your cards: [10, 10], current score: 20\n",
      "Computer's first card: 4\n"
     ]
    },
    {
     "name": "stdin",
     "output_type": "stream",
     "text": [
      "Type 'y' to get another card, or 'n' to pass:  y\n"
     ]
    },
    {
     "name": "stdout",
     "output_type": "stream",
     "text": [
      "\n",
      "Your cards: [10, 10, 3], current score: 23\n",
      "Computer's first card: 4\n",
      "\n",
      "Your final hand: [10, 10, 3], final score: 23\n",
      "Computer's final hand: [4, 5, 7, 4], final score: 20\n",
      "Bust! You went over 21. You lose!\n"
     ]
    }
   ],
   "source": [
    "import random\n",
    "\n",
    "def deal_card():\n",
    " \n",
    "    cards = [2, 3, 4, 5, 6, 7, 8, 9, 10, 10, 10, 10, 11]\n",
    "    return random.choice(cards)\n",
    "\n",
    "def calculate_score(cards):\n",
    "  \n",
    "    # Check for Blackjack (Ace + 10-value card) and adjust for multiple aces\n",
    "    if sum(cards) == 21 and len(cards) == 2:\n",
    "        return 0\n",
    "\n",
    "    # Check for a hand with one or more aces and adjust for multiple aces\n",
    "    if 11 in cards and sum(cards) > 21:\n",
    "        cards.remove(11)\n",
    "        cards.append(1)\n",
    "\n",
    "    return sum(cards)\n",
    "\n",
    "def compare(user_score, computer_score):\n",
    "   \n",
    "    if user_score == computer_score:\n",
    "        return \"It's a draw!\"\n",
    "    elif computer_score == 0:\n",
    "        return \"Computer has Blackjack. You lose!\"\n",
    "    elif user_score == 0:\n",
    "        return \"Blackjack! You win!\"\n",
    "    elif user_score > 21:\n",
    "        return \"Bust! You went over 21. You lose!\"\n",
    "    elif computer_score > 21:\n",
    "        return \"Computer busts! You win!\"\n",
    "    elif user_score > computer_score:\n",
    "        return \"You win!\"\n",
    "    else:\n",
    "        return \"You lose!\"\n",
    "\n",
    "def play_blackjack():\n",
    "\n",
    "    user_cards = []\n",
    "    computer_cards = []\n",
    "    game_over = False\n",
    "\n",
    "    # Deal initial cards\n",
    "    for _ in range(2):\n",
    "        user_cards.append(deal_card())\n",
    "        computer_cards.append(deal_card())\n",
    "\n",
    "    while not game_over:\n",
    "        user_score = calculate_score(user_cards)\n",
    "        computer_score = calculate_score(computer_cards)\n",
    "\n",
    "        print(f\"\\nYour cards: {user_cards}, current score: {user_score}\")\n",
    "        print(f\"Computer's first card: {computer_cards[0]}\")\n",
    "\n",
    "        # Check if user or computer has Blackjack or went over 21\n",
    "        if user_score == 0 or computer_score == 0 or user_score > 21:\n",
    "            game_over = True\n",
    "        else:\n",
    "            another_card = input(\"Type 'y' to get another card, or 'n' to pass: \").lower()\n",
    "            if another_card == 'y':\n",
    "                user_cards.append(deal_card())\n",
    "            else:\n",
    "                game_over = True\n",
    "\n",
    "    # Computer's turn\n",
    "    while computer_score != 0 and computer_score < 17:\n",
    "        computer_cards.append(deal_card())\n",
    "        computer_score = calculate_score(computer_cards)\n",
    "\n",
    "    print(f\"\\nYour final hand: {user_cards}, final score: {user_score}\")\n",
    "    print(f\"Computer's final hand: {computer_cards}, final score: {computer_score}\")\n",
    "\n",
    "    result = compare(user_score, computer_score)\n",
    "    print(result)\n",
    "\n",
    "def main():\n",
    "    print(\"Welcome to Blackjack!\")\n",
    "    play_blackjack()\n",
    "\n",
    "if __name__ == \"__main__\":\n",
    "    main()\n"
   ]
  },
  {
   "cell_type": "code",
   "execution_count": 6,
   "id": "f525cd69-92ca-4f9e-89d9-7a45040153cb",
   "metadata": {},
   "outputs": [
    {
     "name": "stdin",
     "output_type": "stream",
     "text": [
      "Enter a positive integer:  3\n"
     ]
    },
    {
     "name": "stdout",
     "output_type": "stream",
     "text": [
      "3 is a prime number.\n"
     ]
    }
   ],
   "source": [
    "def generate_prime_factors(number):\n",
    " \n",
    "    prime_factors = []\n",
    "    divisor = 2\n",
    "\n",
    "    while divisor <= number:\n",
    "        if number % divisor == 0:\n",
    "            prime_factors.append(divisor)\n",
    "            number = number // divisor\n",
    "        else:\n",
    "            divisor += 1\n",
    "\n",
    "    return prime_factors\n",
    "\n",
    "def main():\n",
    "    try:\n",
    "        number = int(input(\"Enter a positive integer: \"))\n",
    "\n",
    "        if number <= 0:\n",
    "            raise ValueError(\"Please enter a positive integer.\")\n",
    "\n",
    "        prime_factors = generate_prime_factors(number)\n",
    "\n",
    "        if len(prime_factors) == 1:\n",
    "            print(f\"{number} is a prime number.\")\n",
    "        else:\n",
    "            print(f\"The prime factors of {number} are: {prime_factors}\")\n",
    "\n",
    "    except ValueError as e:\n",
    "        print(f\"Invalid input: {e}\")\n",
    "\n",
    "if __name__ == \"__main__\":\n",
    "    main()\n",
    "\n"
   ]
  }
 ],
 "metadata": {
  "kernelspec": {
   "display_name": "Python 3 (ipykernel)",
   "language": "python",
   "name": "python3"
  },
  "language_info": {
   "codemirror_mode": {
    "name": "ipython",
    "version": 3
   },
   "file_extension": ".py",
   "mimetype": "text/x-python",
   "name": "python",
   "nbconvert_exporter": "python",
   "pygments_lexer": "ipython3",
   "version": "3.10.8"
  }
 },
 "nbformat": 4,
 "nbformat_minor": 5
}
